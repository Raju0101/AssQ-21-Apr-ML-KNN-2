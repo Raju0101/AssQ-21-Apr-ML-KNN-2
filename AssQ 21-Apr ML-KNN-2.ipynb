{
 "cells": [
  {
   "cell_type": "markdown",
   "id": "654be7ad-8b58-412a-bf9e-b18ff49d3e9f",
   "metadata": {},
   "source": [
    "# AssQ 21-Apr ML-KNN-2"
   ]
  },
  {
   "cell_type": "code",
   "execution_count": null,
   "id": "ea26ddb0-fcea-4088-becd-03eff331a548",
   "metadata": {},
   "outputs": [],
   "source": [
    "Q1. What is the main difference between the Euclidean distance metric and the Manhattan distance \n",
    "metric in KNN? How might this difference affect the performance of a KNN classifier or regressor?"
   ]
  },
  {
   "cell_type": "code",
   "execution_count": null,
   "id": "27e94312-1d6d-4170-abb1-47ea04ce9f1d",
   "metadata": {},
   "outputs": [],
   "source": [
    "Euclidean distance is the shortest path between source and destination which is a straight line .\n",
    "but Manhattan distance is sum of all the real distances\n",
    "between source(s) and destination(d) and each distance are always the straight lines.\n",
    "\n",
    "\n",
    "We don't use Manhattan Distance, because it calculates distance horizontally or vertically only.\n",
    "It has dimension restrictions. On the other hand, \n",
    "the Euclidean metric can be used in any space to calculate distance.\n",
    "\n",
    "\n",
    "For any two points (x1 1 , y1 1 ) and (x2 2 , y2 2 ) on a plane,\n",
    "The Euclidean distance formula says, the distance between the above points is d = √[ (x2 2 – x1 1 )2 + (y2 2 – y1 1 )2].\n",
    "Manhattan distance formula says, the distance between the above points is d = |x2 2 - x1 1 | + |y2 2 - y1 1 |."
   ]
  },
  {
   "cell_type": "code",
   "execution_count": null,
   "id": "071cb2cd-8e30-4a2c-8013-2851ddac9345",
   "metadata": {},
   "outputs": [],
   "source": []
  },
  {
   "cell_type": "code",
   "execution_count": null,
   "id": "2c7180ab-fc51-4606-8a56-e30d85208056",
   "metadata": {},
   "outputs": [],
   "source": [
    "Q2. How do you choose the optimal value of k for a KNN classifier or regressor? What techniques can be \n",
    "used to determine the optimal k value?"
   ]
  },
  {
   "cell_type": "code",
   "execution_count": null,
   "id": "ca5d8adc-0ec1-431e-b18a-c1791e36d81b",
   "metadata": {},
   "outputs": [],
   "source": [
    "The choice of k will largely depend on the input data as data with more outliers or \n",
    "noise will likely perform better with higher values of k. Overall, it is recommended \n",
    "to have an odd number for k to avoid ties in classification,\n",
    "and cross-validation tactics can help you choose the optimal k for your dataset.\n",
    "\n",
    "K should be the square root of n (number of data points in the training dataset).\n",
    "K should be chosen as the odd so that there are no ties.\n",
    "\n",
    "One can use cross-validation to select the optimal value of k for the k-NN algorithm,\n",
    "which helps improve its performance and prevent overfitting or underfitting.\n",
    "\n",
    "Note that if k is chosen as the total number of observations in the Training Set,\n",
    "all the observations in the Training Set become nearest neighbors.\n",
    "The default value for this option is 1.\n",
    "\n",
    "At K=1, the KNN tends to closely follow the training data and thus shows a high training score. \n",
    "However,  in comparison, the test score is quite low, thus indicating overfitting."
   ]
  },
  {
   "cell_type": "code",
   "execution_count": null,
   "id": "aa5e6d3a-ad27-4e18-b47e-5a4b85866040",
   "metadata": {},
   "outputs": [],
   "source": []
  },
  {
   "cell_type": "code",
   "execution_count": null,
   "id": "711f0bd7-0544-4bf6-9c98-7aa2bcded04c",
   "metadata": {},
   "outputs": [],
   "source": [
    "Q3. How does the choice of distance metric affect the performance of a KNN classifier or regressor? In \n",
    "what situations might you choose one distance metric over the other?"
   ]
  },
  {
   "cell_type": "code",
   "execution_count": null,
   "id": "5d5fb2ee-3107-4b7d-9a9e-e050eebdbefe",
   "metadata": {},
   "outputs": [],
   "source": [
    "There are a few conditions that the distance metric must satisfy:\n",
    "Non-negativity: d(x, y) >= 0.\n",
    "Identity: d(x, y) = 0 if and only if x == y.\n",
    "Symmetry: d(x, y) = d(y, x)\n",
    "Triangle Inequality: d(x, y) + d(y, z) >= d(x, z)\n",
    "\n",
    "We mean by the 'best distance metric' (in this review) is the one that allows the KNN to classify test \n",
    "examples with the highest precision, recall and accuracy, \n",
    "i.e. the one that gives best performance of the KNN in terms of accuracy.\n",
    "\n",
    "K-Means uses euclidean distance, as the default distance metric, for clustering.\n",
    "\n",
    "Which of the following distance measure do we use in case of categorical variables in k-NN? \n",
    "Both Euclidean and Manhattan distances are used in case of continuous variables, \n",
    "whereas hamming distance is used in case of categorical variable."
   ]
  },
  {
   "cell_type": "code",
   "execution_count": null,
   "id": "710e7dd4-de6d-4a5f-ab00-5a0afdd3b9b0",
   "metadata": {},
   "outputs": [],
   "source": []
  },
  {
   "cell_type": "code",
   "execution_count": null,
   "id": "e7d9885c-66cb-4adf-9b0b-8c64dbac6c7e",
   "metadata": {},
   "outputs": [],
   "source": [
    "Q4. What are some common hyperparameters in KNN classifiers and regressors, and how do they affect \n",
    "the performance of the model? How might you go about tuning these hyperparameters to improve \n",
    "model performance?"
   ]
  },
  {
   "cell_type": "code",
   "execution_count": null,
   "id": "bb01a293-2b20-451e-8a0f-3a6381c62b23",
   "metadata": {},
   "outputs": [],
   "source": [
    "The most important hyperparameter for KNN is the number of neighbors (n_neighbors).\n",
    "Test values between at least 1 and 21, perhaps just the odd numbers. \n",
    "It may also be interesting to test different distance metrics (metric) for choosing the composition of the neighborhood.\n",
    "\n",
    "\n",
    "So then hyperparameter optimization is the process of finding the right combination of hyperparameter\n",
    "values to achieve maximum performance on the data in a reasonable amount of time.\n",
    "This process plays a vital role in the prediction accuracy of a machine learning algorithm.\n",
    "\n",
    "k' in KNN is a parameter that refers to the number of nearest neighbours to include in the majority of the voting process. \n",
    "Suppose, if we add a new glass of wine in the dataset. We would like to know whether the new wine is red or white?\n",
    "So, we need to find out what the neighbours are in this case.\n",
    "\n",
    "The number of neighbors to inspect in a KNN model is a hyperparameter. It is specified when you create the model.\n",
    "The table of actual nearest neighbors in a KNN model is a parameter. It is computed when you train the model."
   ]
  },
  {
   "cell_type": "code",
   "execution_count": null,
   "id": "4bfad18f-987f-461b-8b5d-dacfff2f729e",
   "metadata": {},
   "outputs": [],
   "source": []
  },
  {
   "cell_type": "code",
   "execution_count": null,
   "id": "31bdba6d-e165-4ca9-bc1a-1a61d70b0f1d",
   "metadata": {},
   "outputs": [],
   "source": [
    "Q5. How does the size of the training set affect the performance of a KNN classifier or regressor? What \n",
    "techniques can be used to optimize the size of the training set?"
   ]
  },
  {
   "cell_type": "code",
   "execution_count": null,
   "id": "71199eea-526d-490f-a04c-562e08c41ae2",
   "metadata": {},
   "outputs": [],
   "source": [
    "So if dataset is large, there will be a lot of processing which may adversely impact the performance of the algorithm.\n",
    "KNN is also very sensitive to noise in the dataset.\n",
    "If the dataset is large, there are chances of noise in the dataset which adversely affect the performance of KNN algorithm.\n",
    "\n",
    "\n",
    "It's believed that the algorithm who has more data wins.\n",
    "Simply put, when you provide more data the granularity of the sample space becomes more fine grained.\n",
    "\n",
    "KNN works well with a small number of input variables (p), but struggles when the number of inputs is very large.\n",
    "Each input variable can be considered a dimension of a p-dimensional input space.\n",
    "For example, if you had two input variables x1 and x2, the input space would be 2-dimensional.\n",
    "\n",
    "The product of the validity and distance weight for each data point produces a weighted training dataset.\n",
    "This reduces a multi-dimensional dataset into one- dimensional dataset, which improves the efficiency of kNN."
   ]
  },
  {
   "cell_type": "code",
   "execution_count": null,
   "id": "d922d039-8194-4e6d-b09f-67654c007ca5",
   "metadata": {},
   "outputs": [],
   "source": []
  },
  {
   "cell_type": "code",
   "execution_count": null,
   "id": "024858f6-6f82-47d9-8b97-576d84db5bfb",
   "metadata": {},
   "outputs": [],
   "source": [
    "Q6. What are some potential drawbacks of using KNN as a classifier or regressor? How might you \n",
    "overcome these drawbacks to improve the performance of the model?"
   ]
  },
  {
   "cell_type": "code",
   "execution_count": null,
   "id": "7d970456-ea6b-4c6e-a659-a193ae1a193f",
   "metadata": {},
   "outputs": [],
   "source": [
    "Some Disadvantages of KNN\n",
    "Accuracy depends on the quality of the data.\n",
    "With large data, the prediction stage might be slow.\n",
    "Sensitive to the scale of the data and irrelevant features.\n",
    "Require high memory – need to store all of the training data.\n",
    "Given that it stores all of the training, it can be computationally expensive.\n",
    "\n",
    "\n",
    "Sensitive to noisy data, missing values and outliers: KNN is sensitive to noise in the dataset.\n",
    "We need to manually impute missing values and remove outliers.\n",
    "\n",
    "One way to do this is training KNN for different values of K and capturing the performance metrics for that value at K. \n",
    "Say for eg. You consider accuracy as the performance measure then we plot a graph of accuracy vs.\n",
    "different values of K and we select a point where we get the best accuracy.\n",
    "\n",
    "\n",
    "Time complexity and space complexity is enormous, which is a major disadvantage of KNN. \n",
    "Time complexity refers to the time model takes to evaluate the class of the query point. \n",
    "Space complexity refers to the total memory used by the algorithm.\n",
    "If we have n data points in training and each point is of m dimension.\n",
    "\n",
    "Advantages and disadvantages of KNN\n",
    "It's easy to understand and simple to implement.\n",
    "It can be used for both classification and regression problems.\n",
    "It's ideal for non-linear data since there's no assumption about underlying data.\n",
    "It can naturally handle multi-class cases.\n",
    "It can perform well with enough representative data.\n",
    "\n",
    "The KNN uses neighborhood classification as the predication value of the new query. \n",
    "It has advantages - nonparametric architecture, simple and powerful, requires no traning time,\n",
    "but it also has disadvantage - memory intensive, classification and estimation are slow.\n",
    "\n",
    "Therefore rescaling features is one way that can be used to improve the performance of Distance-based algorithms such as KNN.\n",
    "\n",
    "To prevent overfitting, we can smooth the decision boundary by K nearest neighbors instead of 1.\n",
    "Find the K training samples , r = 1 , … , K closest in distance to ,\n",
    "and then classify using majority vote among the k neighbors."
   ]
  },
  {
   "cell_type": "code",
   "execution_count": null,
   "id": "962632b1-5f24-4e6b-af43-665562afdb67",
   "metadata": {},
   "outputs": [],
   "source": [
    ".......................The End........................"
   ]
  },
  {
   "cell_type": "code",
   "execution_count": null,
   "id": "c41239b6-aa58-4457-b3e8-de3a71f091fa",
   "metadata": {},
   "outputs": [],
   "source": []
  },
  {
   "cell_type": "code",
   "execution_count": null,
   "id": "d331ec6c-da95-4885-a2a0-5157b5a5dfd6",
   "metadata": {},
   "outputs": [],
   "source": []
  },
  {
   "cell_type": "code",
   "execution_count": null,
   "id": "35204ff7-78b5-439d-b73c-96d49e4ffd1d",
   "metadata": {},
   "outputs": [],
   "source": []
  },
  {
   "cell_type": "code",
   "execution_count": null,
   "id": "b4e5ed03-f7d8-437c-a66d-5f9a3a08047b",
   "metadata": {},
   "outputs": [],
   "source": []
  },
  {
   "cell_type": "code",
   "execution_count": null,
   "id": "48c0c5a7-511d-43d3-830e-d1b2584712fe",
   "metadata": {},
   "outputs": [],
   "source": []
  },
  {
   "cell_type": "code",
   "execution_count": null,
   "id": "dc711431-94f7-4103-b157-530800abf941",
   "metadata": {},
   "outputs": [],
   "source": []
  },
  {
   "cell_type": "code",
   "execution_count": null,
   "id": "3321d3d5-9cbf-4d73-a09c-3af3e08f784b",
   "metadata": {},
   "outputs": [],
   "source": []
  },
  {
   "cell_type": "code",
   "execution_count": null,
   "id": "2f41a65a-8c5a-4d51-a92c-2cf2f51ed98f",
   "metadata": {},
   "outputs": [],
   "source": []
  }
 ],
 "metadata": {
  "kernelspec": {
   "display_name": "Python 3 (ipykernel)",
   "language": "python",
   "name": "python3"
  },
  "language_info": {
   "codemirror_mode": {
    "name": "ipython",
    "version": 3
   },
   "file_extension": ".py",
   "mimetype": "text/x-python",
   "name": "python",
   "nbconvert_exporter": "python",
   "pygments_lexer": "ipython3",
   "version": "3.10.6"
  }
 },
 "nbformat": 4,
 "nbformat_minor": 5
}
